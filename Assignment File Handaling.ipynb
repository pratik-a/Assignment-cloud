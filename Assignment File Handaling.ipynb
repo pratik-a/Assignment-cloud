{
  "nbformat": 4,
  "nbformat_minor": 0,
  "metadata": {
    "colab": {
      "provenance": []
    },
    "kernelspec": {
      "name": "python3",
      "display_name": "Python 3"
    },
    "language_info": {
      "name": "python"
    }
  },
  "cells": [
    {
      "cell_type": "markdown",
      "source": [
        "Problem 1:Find the next n lines line in the file (line ending with /n)"
      ],
      "metadata": {
        "id": "vibb24IWhgMN"
      }
    },
    {
      "cell_type": "code",
      "execution_count": 8,
      "metadata": {
        "id": "1A7naAktH4XQ",
        "colab": {
          "base_uri": "https://localhost:8080/"
        },
        "outputId": "f06c25f0-1392-4bc2-c891-ae862c642e19"
      },
      "outputs": [
        {
          "output_type": "stream",
          "name": "stdout",
          "text": [
            "    Data science draws upon principles and practices from mathematics, statistics, computer science, and domain-specific knowledge.\n",
            "    Focus on Data:\n",
            "    It's about understanding and interpreting large and complex datasets to uncover hidden patterns, trends, and insights.\n"
          ]
        }
      ],
      "source": [
        "def read_next_n_lines(filename, start_line, n):\n",
        "    \"\"\"Read the next n lines from a file starting at a specific line.\"\"\"\n",
        "    with open(filename, 'r') as file:\n",
        "        # Skip lines until start_line\n",
        "        for _ in range(start_line):\n",
        "            next(file, None)\n",
        "\n",
        "        # Read the next n lines\n",
        "        lines = [file.readline().rstrip('\\n') for _ in range(n)]\n",
        "\n",
        "    return [line for line in lines if line]  # Remove empty lines if any\n",
        "\n",
        "# Example usage\n",
        "filename = \"Data_Science.txt\"\n",
        "start_line = 5  # Start reading from line 5\n",
        "n = 3           # Read 3 lines after that\n",
        "\n",
        "next_lines = read_next_n_lines(filename, start_line, n)\n",
        "for line in next_lines:\n",
        "    print(line)\n"
      ]
    },
    {
      "cell_type": "markdown",
      "source": [
        "Problem 2:  Find the last n lines line in the file (line ending with /n)"
      ],
      "metadata": {
        "id": "BpxCg7Sfh4Ec"
      }
    },
    {
      "cell_type": "code",
      "source": [
        "from collections import deque\n",
        "\n",
        "def read_last_n_lines(filename, n):\n",
        "    \"\"\"Read the last n lines from a file.\"\"\"\n",
        "    with open(filename, 'r') as file:\n",
        "        # Use deque to keep only the last n lines\n",
        "        last_lines = deque(file, n)\n",
        "\n",
        "    # Strip trailing newlines and return clean lines\n",
        "    return [line.rstrip('\\n') for line in last_lines]\n",
        "\n",
        "# Example usage\n",
        "filename = \"Data_Science.txt\"\n",
        "n = 3  # Number of lines to read from the end\n",
        "\n",
        "last_lines = read_last_n_lines(filename, n)\n",
        "for line in last_lines:\n",
        "    print(line)\n"
      ],
      "metadata": {
        "colab": {
          "base_uri": "https://localhost:8080/"
        },
        "id": "o3XWZnHwf18g",
        "outputId": "83b8f849-9494-424c-92fc-2769367c3ae8"
      },
      "execution_count": 9,
      "outputs": [
        {
          "output_type": "stream",
          "name": "stdout",
          "text": [
            "It's used for fraud detection, risk assessment, and algorithmic trading. \n",
            "Marketing:\n",
            "Data science helps businesses understand customer preferences, personalize marketing messages, and improve customer experience. \n"
          ]
        }
      ]
    },
    {
      "cell_type": "markdown",
      "source": [
        "Problem 3: Find the largest line in the file (line ending with /n)"
      ],
      "metadata": {
        "id": "4Uo4oMS0qdBn"
      }
    },
    {
      "cell_type": "code",
      "source": [
        "def find_largest_line(filename):\n",
        "    \"\"\"Find the largest line in a file by length.\"\"\"\n",
        "    with open(filename, 'r') as file:\n",
        "        # Use max with key to find the longest line\n",
        "        largest_line = max(file, key=len, default='').rstrip('\\n')\n",
        "\n",
        "    return largest_line\n",
        "\n",
        "# Example usage\n",
        "filename = \"Data_Science.txt\"\n",
        "\n",
        "largest_line = find_largest_line(filename)\n",
        "if largest_line:\n",
        "    print(f\"The largest line is:\\n{largest_line}\")\n",
        "else:\n",
        "    print(\"The file is empty or contains no lines.\")\n"
      ],
      "metadata": {
        "colab": {
          "base_uri": "https://localhost:8080/"
        },
        "id": "BD5ukXUNqZri",
        "outputId": "662fdf31-46e7-483a-dc34-1cde747051b8"
      },
      "execution_count": 10,
      "outputs": [
        {
          "output_type": "stream",
          "name": "stdout",
          "text": [
            "The largest line is:\n",
            "Data science is a multidisciplinary field that uses scientific methods, algorithms, and programming to extract knowledge and insights from data, ultimately enabling informed decision-making and predictions. \n"
          ]
        }
      ]
    },
    {
      "cell_type": "markdown",
      "source": [
        "Problem 4: Find the largest line in the file (line ending with /n)"
      ],
      "metadata": {
        "id": "CfggJydUQ5Qr"
      }
    },
    {
      "cell_type": "code",
      "source": [
        "def find_largest_line(filename):\n",
        "    \"\"\"Find the largest line in a file (line ending with /n).\"\"\"\n",
        "    with open(filename, 'r') as file:\n",
        "        largest_line = \"\"\n",
        "\n",
        "        for line in file:\n",
        "            # Check and update largest line if the current line is longer\n",
        "            if len(line) > len(largest_line):\n",
        "                largest_line = line\n",
        "\n",
        "    # Return the largest line after stripping trailing newline\n",
        "    return largest_line.rstrip('\\n')\n",
        "\n",
        "# Example usage\n",
        "filename = \"Data_Science.txt\"\n",
        "\n",
        "largest_line = find_largest_line(filename)\n",
        "if largest_line:\n",
        "    print(f\"The largest line is:\\n{largest_line}\")\n",
        "else:\n",
        "    print(\"The file is empty or contains no lines.\")\n"
      ],
      "metadata": {
        "id": "PdL2HBB0jT0d",
        "colab": {
          "base_uri": "https://localhost:8080/"
        },
        "outputId": "c6c9a586-e8cb-454a-e1cd-bca4bda07c84"
      },
      "execution_count": 12,
      "outputs": [
        {
          "output_type": "stream",
          "name": "stdout",
          "text": [
            "The largest line is:\n",
            "Data science is a multidisciplinary field that uses scientific methods, algorithms, and programming to extract knowledge and insights from data, ultimately enabling informed decision-making and predictions. \n"
          ]
        }
      ]
    },
    {
      "cell_type": "code",
      "source": [],
      "metadata": {
        "id": "MuLNZU2PRgn0"
      },
      "execution_count": null,
      "outputs": []
    }
  ]
}