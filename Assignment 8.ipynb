{
  "nbformat": 4,
  "nbformat_minor": 0,
  "metadata": {
    "colab": {
      "provenance": []
    },
    "kernelspec": {
      "name": "python3",
      "display_name": "Python 3"
    },
    "language_info": {
      "name": "python"
    }
  },
  "cells": [
    {
      "cell_type": "markdown",
      "source": [
        "Problem 1:For a given set of values of x and y come up with your own way to predict the value of X"
      ],
      "metadata": {
        "id": "vibb24IWhgMN"
      }
    },
    {
      "cell_type": "code",
      "execution_count": 14,
      "metadata": {
        "id": "1A7naAktH4XQ",
        "colab": {
          "base_uri": "https://localhost:8080/"
        },
        "outputId": "e2de4efa-d802-40bc-e34a-996525a9a160"
      },
      "outputs": [
        {
          "output_type": "stream",
          "name": "stdout",
          "text": [
            "Predicted value of x for y = 18 is: 6.00\n"
          ]
        }
      ],
      "source": [
        "def predict_x_manual(y_value, x_values, y_values):\n",
        "    \"\"\"Predict x based on y using manual linear equation.\"\"\"\n",
        "    # Calculate slope (m) and intercept (c)\n",
        "    n = len(x_values)\n",
        "    sum_x = sum(x_values)\n",
        "    sum_y = sum(y_values)\n",
        "    sum_xy = sum(x * y for x, y in zip(x_values, y_values))\n",
        "    sum_x_squared = sum(x**2 for x in x_values)\n",
        "\n",
        "    # Calculate slope (m) and intercept (c)\n",
        "    m = (n * sum_xy - sum_x * sum_y) / (n * sum_x_squared - sum_x**2)\n",
        "    c = (sum_y - m * sum_x) / n\n",
        "\n",
        "    # Apply reverse formula: y = mx + c -> x = (y - c) / m\n",
        "    if m != 0:\n",
        "        predicted_x = (y_value - c) / m\n",
        "        return predicted_x\n",
        "    else:\n",
        "        raise ValueError(\"Cannot predict x because slope is zero (m = 0).\")\n",
        "\n",
        "# Example data\n",
        "x_values = [1, 2, 3, 4, 5]\n",
        "y_values = [3, 6, 9, 12, 15]  # Linear relationship y = 3x\n",
        "\n",
        "# Predict x for y = 18\n",
        "predicted_x = predict_x_manual(18, x_values, y_values)\n",
        "print(f\"Predicted value of x for y = 18 is: {predicted_x:.2f}\")\n"
      ]
    },
    {
      "cell_type": "code",
      "source": [],
      "metadata": {
        "id": "Iwj72yZFXFl_"
      },
      "execution_count": null,
      "outputs": []
    }
  ]
}