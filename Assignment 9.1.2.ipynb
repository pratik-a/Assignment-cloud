{
  "nbformat": 4,
  "nbformat_minor": 0,
  "metadata": {
    "colab": {
      "provenance": []
    },
    "kernelspec": {
      "name": "python3",
      "display_name": "Python 3"
    },
    "language_info": {
      "name": "python"
    }
  },
  "cells": [
    {
      "cell_type": "markdown",
      "source": [
        "Problem 1:CSV File encoding existing coder / encryptor"
      ],
      "metadata": {
        "id": "vibb24IWhgMN"
      }
    },
    {
      "cell_type": "markdown",
      "source": [
        "**Encoder**"
      ],
      "metadata": {
        "id": "Z1AV6e3LkKhq"
      }
    },
    {
      "cell_type": "code",
      "source": [
        "import random\n",
        "\n",
        "\n",
        "def encode_file_usingmap(input_file_name, output_file_name, mapping_file_name):\n",
        "    \"\"\"Encode email IDs with unique 64-bit numbers and generate a mapping.\"\"\"\n",
        "\n",
        "    # Store used numbers and email mappings\n",
        "    used_numbers = set()\n",
        "    user_email_ids = {}\n",
        "\n",
        "    def get_unique_number():\n",
        "        \"\"\"Generate a unique 64-bit number using a while loop to avoid recursion.\"\"\"\n",
        "        while True:\n",
        "            unique_number = random.getrandbits(64)\n",
        "            if unique_number not in used_numbers:\n",
        "                used_numbers.add(unique_number)\n",
        "                return unique_number\n",
        "\n",
        "    try:\n",
        "        # Open all files using 'with' for automatic closure\n",
        "        with open(input_file_name, 'r') as in_file, \\\n",
        "             open(output_file_name, 'w') as out_file, \\\n",
        "             open(mapping_file_name, 'w') as mapping_file:\n",
        "\n",
        "            # Read header and validate format\n",
        "            header = in_file.readline().strip()\n",
        "            expected_header = \"user_email_id,product_id,score\"\n",
        "\n",
        "            if header != expected_header:\n",
        "                print(f\"Invalid file format. Expected header: '{expected_header}'.\")\n",
        "                return\n",
        "\n",
        "            # Write headers for output and mapping files\n",
        "            out_file.write(\"user_id,product_id,score\\n\")\n",
        "            mapping_file.write(\"user_id_number,user_email_id\\n\")\n",
        "\n",
        "            # Process all lines efficiently\n",
        "            lines = in_file.readlines()\n",
        "            for line in lines:\n",
        "                values = line.strip().split(',')\n",
        "\n",
        "                # Skip invalid rows that don't match expected format\n",
        "                if len(values) != 3:\n",
        "                    print(f\"Skipping invalid row: {line.strip()}\")\n",
        "                    continue\n",
        "\n",
        "                email_id = values[0]\n",
        "\n",
        "                # Check for existing mapping, otherwise assign a unique number\n",
        "                if email_id not in user_email_ids:\n",
        "                    unique_number = get_unique_number()\n",
        "                    user_email_ids[email_id] = unique_number\n",
        "                    # Write mapping only for new IDs\n",
        "                    mapping_file.write(f\"{unique_number},{email_id}\\n\")\n",
        "                else:\n",
        "                    unique_number = user_email_ids[email_id]\n",
        "\n",
        "                # Update the row and write to the encoded file\n",
        "                values[0] = str(unique_number)\n",
        "                out_file.write(','.join(values) + \"\\n\")\n",
        "\n",
        "        print(f\"Encoding complete. Encoded data saved to '{output_file_name}' and mapping to '{mapping_file_name}'.\")\n",
        "\n",
        "    except FileNotFoundError:\n",
        "        print(f\"Error: File '{input_file_name}' not found.\")\n",
        "    except Exception as e:\n",
        "        print(f\"An unexpected error occurred: {e}\")\n",
        "\n",
        "\n",
        "# Run the encoding function\n",
        "if __name__ == \"__main__\":\n",
        "    encode_file_usingmap(\"our_data.csv\", \"encoded_data.csv\", \"email_mapping.csv\")\n"
      ],
      "metadata": {
        "id": "HegckjIem1k_"
      },
      "execution_count": null,
      "outputs": []
    },
    {
      "cell_type": "markdown",
      "source": [
        "**Decoder**"
      ],
      "metadata": {
        "id": "Ue-ebBFYkU0p"
      }
    },
    {
      "cell_type": "code",
      "source": [
        "def decode_file_usingmap(input_file_name, output_file_name, mapping_file_name):\n",
        "    \"\"\"Decode encoded user IDs using a mapping and generate the original file.\"\"\"\n",
        "\n",
        "    def get_userid_mapping(mapping_file_name):\n",
        "        \"\"\"Load user ID to email mapping from the mapping file.\"\"\"\n",
        "        u_map = {}\n",
        "        try:\n",
        "            with open(mapping_file_name, 'r') as map_file:\n",
        "                next(map_file)  # Skip header line\n",
        "                for line in map_file:\n",
        "                    key, value = line.strip().split(',', 1)\n",
        "                    u_map[key] = value\n",
        "        except (FileNotFoundError, ValueError) as e:\n",
        "            print(f\"Error reading mapping file: {e}\")\n",
        "            return None\n",
        "        return u_map\n",
        "\n",
        "    # Load the user ID mapping\n",
        "    user_map = get_userid_mapping(mapping_file_name)\n",
        "    if not user_map:\n",
        "        print(\"Decoding aborted due to missing or invalid mapping.\")\n",
        "        return\n",
        "\n",
        "    try:\n",
        "        # Use 'with' to handle file operations safely\n",
        "        with open(input_file_name, 'r') as in_file, open(output_file_name, 'w') as out_file:\n",
        "            header = in_file.readline().strip()\n",
        "            if header != \"user_id,product_id,score\":\n",
        "                print(f\"Invalid header format in '{input_file_name}'.\")\n",
        "                return\n",
        "\n",
        "            # Write correct header to output file\n",
        "            out_file.write(\"user_email_id,product_id,score\\n\")\n",
        "\n",
        "            for line in in_file:\n",
        "                values = line.strip().split(',')\n",
        "                # Skip invalid or unmapped rows\n",
        "                if len(values) == 3 and values[0] in user_map:\n",
        "                    values[0] = user_map[values[0]]  # Replace with email\n",
        "                    out_file.write(','.join(values) + \"\\n\")\n",
        "\n",
        "        print(f\"Decoding complete. Output saved to '{output_file_name}'.\")\n",
        "\n",
        "    except FileNotFoundError:\n",
        "        print(f\"Error: Input file '{input_file_name}' not found.\")\n",
        "    except Exception as e:\n",
        "        print(f\"Unexpected error: {e}\")\n",
        "\n",
        "\n",
        "# Run the decoding function\n",
        "if __name__ == \"__main__\":\n",
        "    decode_file_usingmap(\"encoded_data.csv\", \"decoded_data.csv\", \"email_mapping.csv\")\n"
      ],
      "metadata": {
        "id": "78VK5VTynW9H"
      },
      "execution_count": null,
      "outputs": []
    },
    {
      "cell_type": "markdown",
      "source": [
        "Sample input data csv file"
      ],
      "metadata": {
        "id": "gDdXMC6glYT2"
      }
    },
    {
      "cell_type": "markdown",
      "source": [
        "\n",
        "\n",
        "```\n",
        "user_email_id,product_id,score\n",
        "a@gmail.com,1,4\n",
        "b@gmail.com,2,3.5\n",
        "c@gmail.com,3,2.0\n",
        "```\n",
        "\n"
      ],
      "metadata": {
        "id": "bVwfyGwEkqp7"
      }
    },
    {
      "cell_type": "markdown",
      "source": [
        "Encoder file output"
      ],
      "metadata": {
        "id": "g5Pl_igileIF"
      }
    },
    {
      "cell_type": "markdown",
      "source": [
        "```\n",
        "user_id,product_id,score\n",
        "17375566958622273556770665904576967,1,4\n",
        "1735568585959702257666975587866555604576967,2,3.5\n",
        "17369675969685922616755636604576967,3,2.0\n",
        "```\n",
        "\n"
      ],
      "metadata": {
        "id": "GVGFMpxak9Ls"
      }
    },
    {
      "cell_type": "markdown",
      "source": [
        "Decoder file output"
      ],
      "metadata": {
        "id": "VybukHnhlhOR"
      }
    },
    {
      "cell_type": "markdown",
      "source": [
        "\n",
        "\n",
        "```\n",
        "user_email_id,product_id,score\n",
        "a@gmail.com,1,4\n",
        "b@gmail.com,2,3.5\n",
        "c@gmail.com,3,2.0\n",
        "```\n",
        "\n"
      ],
      "metadata": {
        "id": "13iN5uQQlSX2"
      }
    },
    {
      "cell_type": "code",
      "source": [],
      "metadata": {
        "id": "TEXHb225k8HR"
      },
      "execution_count": null,
      "outputs": []
    }
  ]
}