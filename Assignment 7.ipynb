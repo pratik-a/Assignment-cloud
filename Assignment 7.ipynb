{
  "nbformat": 4,
  "nbformat_minor": 0,
  "metadata": {
    "colab": {
      "provenance": []
    },
    "kernelspec": {
      "name": "python3",
      "display_name": "Python 3"
    },
    "language_info": {
      "name": "python"
    }
  },
  "cells": [
    {
      "cell_type": "markdown",
      "source": [
        "Problem 1:Coin Toss: Create a function that return 0, 1 with equal probability."
      ],
      "metadata": {
        "id": "vibb24IWhgMN"
      }
    },
    {
      "cell_type": "code",
      "execution_count": 7,
      "metadata": {
        "id": "1A7naAktH4XQ",
        "colab": {
          "base_uri": "https://localhost:8080/"
        },
        "outputId": "41becf47-9c70-4bb8-ff38-b3b4f4bd3fea"
      },
      "outputs": [
        {
          "output_type": "stream",
          "name": "stdout",
          "text": [
            "Example for fair two-sided coin toss\n",
            "Number of 0's occurred: 50.58%\n",
            "Number of 1's occurred: 49.42%\n"
          ]
        }
      ],
      "source": [
        "from random import random\n",
        "from collections import Counter\n",
        "\n",
        "# fair 2-sided coin toss\n",
        "def coin_toss_fair():\n",
        "    \"\"\"Simulate a fair 2-sided coin toss.\"\"\"\n",
        "    return int(random() < 0.5)\n",
        "\n",
        "# Simulate 10,000 tosses\n",
        "num_tosses = 10000\n",
        "result = [coin_toss_fair() for _ in range(num_tosses)]\n",
        "\n",
        "# Count occurrences using Counter for efficiency\n",
        "counts = Counter(result)\n",
        "\n",
        "# Display results\n",
        "print(\"Example for fair two-sided coin toss\")\n",
        "for i in range(2):\n",
        "    percentage = 100 * (counts.get(i, 0) / num_tosses)\n",
        "    print(f\"Number of {i}'s occurred: {percentage:.2f}%\")\n"
      ]
    },
    {
      "cell_type": "markdown",
      "source": [
        "Problem 2:  Coin Toss: Create a function that return 0, 1, 2 with equal probability."
      ],
      "metadata": {
        "id": "BpxCg7Sfh4Ec"
      }
    },
    {
      "cell_type": "code",
      "source": [
        "from random import random\n",
        "\n",
        "# fair 3-sided coin toss using method 1\n",
        "def coin_toss_three_fair():\n",
        "    \"\"\"Simulate a fair 3-sided coin toss (Method 1).\"\"\"\n",
        "    return int(random() * 3)\n",
        "\n",
        "# fair 3-sided coin toss using method 2\n",
        "def coin_toss_three_fair2():\n",
        "    \"\"\"Simulate a fair 3-sided coin toss (Method 2).\n",
        "\n",
        "    Discard 0 and retry if generated.\n",
        "    \"\"\"\n",
        "    while True:\n",
        "        i = int(random() * 10)\n",
        "        if i != 0:\n",
        "            return i % 3\n",
        "\n",
        "# Simulate coin toss and calculate percentages\n",
        "def simulate_and_display(coin_toss_function, label, num_tosses=10000):\n",
        "    \"\"\"Simulate coin tosses and display occurrence percentages.\"\"\"\n",
        "    results = [coin_toss_function() for _ in range(num_tosses)]\n",
        "    print(f\"\\n{label}\")\n",
        "    for i in range(3):\n",
        "        percentage = 100 * (results.count(i) / num_tosses)\n",
        "        print(f\"Number of {i}'s occurred: {percentage:.2f}%\")\n",
        "\n",
        "# Simulate 10,000 tosses for both methods\n",
        "simulate_and_display(coin_toss_three_fair, \"Example for fair three-sided coin toss, sample one\")\n",
        "simulate_and_display(coin_toss_three_fair2, \"Example for fair three-sided coin toss, sample two\")\n"
      ],
      "metadata": {
        "colab": {
          "base_uri": "https://localhost:8080/"
        },
        "id": "o3XWZnHwf18g",
        "outputId": "28904ada-9feb-403c-ce2b-953bce5ebfbd"
      },
      "execution_count": 6,
      "outputs": [
        {
          "output_type": "stream",
          "name": "stdout",
          "text": [
            "\n",
            "Example for fair three-sided coin toss, sample one\n",
            "Number of 0's occurred: 33.17%\n",
            "Number of 1's occurred: 33.41%\n",
            "Number of 2's occurred: 33.42%\n",
            "\n",
            "Example for fair three-sided coin toss, sample two\n",
            "Number of 0's occurred: 32.67%\n",
            "Number of 1's occurred: 33.64%\n",
            "Number of 2's occurred: 33.69%\n"
          ]
        }
      ]
    },
    {
      "cell_type": "markdown",
      "source": [
        "Problem 3: Create a n faced die which generates number from 0 to n - 1 with equal probability."
      ],
      "metadata": {
        "id": "4Uo4oMS0qdBn"
      }
    },
    {
      "cell_type": "code",
      "source": [
        "from random import random\n",
        "\n",
        "def coin_toss_fair(n):\n",
        "    \"\"\"Simulate a fair n-sided coin toss.\"\"\"\n",
        "    return int(random() * n)\n",
        "\n",
        "# Number of sides and tosses\n",
        "num = 12\n",
        "tosses = 10000\n",
        "\n",
        "# Simulate 10,000 tosses and count occurrences\n",
        "results = [coin_toss_fair(num) for _ in range(tosses)]\n",
        "counts = [results.count(i) for i in range(num)]\n",
        "\n",
        "# Display results with percentage\n",
        "print(f\"Example of a fair {num}-sided coin toss\")\n",
        "\n",
        "# Print occurrences and percentages in a loop\n",
        "total_prob = sum(counts) / tosses\n",
        "for i, count in enumerate(counts):\n",
        "    percentage = 100 * (count / tosses)\n",
        "    print(f\"Number of {i}'s occurred: {percentage:.2f}%\")\n",
        "\n",
        "# Verify that total probability is approximately 1\n",
        "print(f\"Total: {total_prob:.2f}\")\n"
      ],
      "metadata": {
        "colab": {
          "base_uri": "https://localhost:8080/"
        },
        "id": "BD5ukXUNqZri",
        "outputId": "6fbbe491-a9d6-4ff9-8b60-33831e38d195"
      },
      "execution_count": 5,
      "outputs": [
        {
          "output_type": "stream",
          "name": "stdout",
          "text": [
            "Example of a fair 12-sided coin toss\n",
            "Number of 0's occurred: 8.04%\n",
            "Number of 1's occurred: 8.56%\n",
            "Number of 2's occurred: 8.28%\n",
            "Number of 3's occurred: 8.46%\n",
            "Number of 4's occurred: 8.59%\n",
            "Number of 5's occurred: 8.56%\n",
            "Number of 6's occurred: 8.35%\n",
            "Number of 7's occurred: 8.00%\n",
            "Number of 8's occurred: 8.08%\n",
            "Number of 9's occurred: 8.02%\n",
            "Number of 10's occurred: 8.65%\n",
            "Number of 11's occurred: 8.41%\n",
            "Total: 1.00\n"
          ]
        }
      ]
    },
    {
      "cell_type": "markdown",
      "source": [
        "Problem 4: Unfair Coin:\n",
        "\n",
        "*   p1 /(p1 + p2), p2/(p1+p2)\n",
        "*   return 0 p1 probability\n",
        "*   return 1 with p2 probability"
      ],
      "metadata": {
        "id": "CfggJydUQ5Qr"
      }
    },
    {
      "cell_type": "code",
      "source": [
        "import random\n",
        "\n",
        "def coin_toss(p1, p2):\n",
        "    \"\"\"Simulate an unfair coin toss.\n",
        "\n",
        "    Returns:\n",
        "        0 with probability p1 / (p1 + p2)\n",
        "        1 with probability p2 / (p1 + p2)\n",
        "    \"\"\"\n",
        "    if p1 < 0 or p2 < 0:\n",
        "        raise ValueError(\"Probabilities must be non-negative.\")\n",
        "\n",
        "    total = p1 + p2\n",
        "    if total == 0:\n",
        "        raise ValueError(\"Both probabilities cannot be zero.\")\n",
        "\n",
        "    prob_0 = p1 / total\n",
        "\n",
        "    # Generate a random number between 0 and 1\n",
        "    if random.random() < prob_0:\n",
        "        return 0\n",
        "    else:\n",
        "        return 1\n",
        "\n",
        "# Example usage\n",
        "result = coin_toss(3, 7)\n",
        "print(f\"Coin toss result: {result}\")\n"
      ],
      "metadata": {
        "id": "PdL2HBB0jT0d",
        "colab": {
          "base_uri": "https://localhost:8080/"
        },
        "outputId": "a6ade742-332a-40aa-91b6-7e447442e43f"
      },
      "execution_count": 4,
      "outputs": [
        {
          "output_type": "stream",
          "name": "stdout",
          "text": [
            "Coin toss result: 1\n"
          ]
        }
      ]
    },
    {
      "cell_type": "code",
      "source": [],
      "metadata": {
        "id": "MuLNZU2PRgn0"
      },
      "execution_count": null,
      "outputs": []
    }
  ]
}