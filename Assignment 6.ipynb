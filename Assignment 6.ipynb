{
  "nbformat": 4,
  "nbformat_minor": 0,
  "metadata": {
    "colab": {
      "provenance": []
    },
    "kernelspec": {
      "name": "python3",
      "display_name": "Python 3"
    },
    "language_info": {
      "name": "python"
    }
  },
  "cells": [
    {
      "cell_type": "markdown",
      "source": [
        "Problem 1:Code Tower of Hanoi"
      ],
      "metadata": {
        "id": "vibb24IWhgMN"
      }
    },
    {
      "cell_type": "code",
      "execution_count": 1,
      "metadata": {
        "id": "1A7naAktH4XQ",
        "colab": {
          "base_uri": "https://localhost:8080/"
        },
        "outputId": "974c2b86-2528-47c0-c301-d16817b072d5"
      },
      "outputs": [
        {
          "output_type": "stream",
          "name": "stdout",
          "text": [
            "Move disk 1 from A to C\n",
            "Move disk 2 from A to B\n",
            "Move disk 1 from C to B\n",
            "Move disk 3 from A to C\n",
            "Move disk 1 from B to A\n",
            "Move disk 2 from B to C\n",
            "Move disk 1 from A to C\n"
          ]
        }
      ],
      "source": [
        "# Function to solve Tower of Hanoi\n",
        "def tower_of_hanoi(n, source, destination, auxiliary):\n",
        "    # Base case: Only one disk\n",
        "    if n == 1:\n",
        "        print(f\"Move disk 1 from {source} to {destination}\")\n",
        "        return\n",
        "\n",
        "    # Move n-1 disks from source to auxiliary\n",
        "    tower_of_hanoi(n - 1, source, auxiliary, destination)\n",
        "\n",
        "    # Move the nth disk from source to destination\n",
        "    print(f\"Move disk {n} from {source} to {destination}\")\n",
        "\n",
        "    # Move n-1 disks from auxiliary to destination\n",
        "    tower_of_hanoi(n - 1, auxiliary, destination, source)\n",
        "\n",
        "# Example usage\n",
        "n = 3  # Number of disks\n",
        "tower_of_hanoi(n, 'A', 'C', 'B')\n"
      ]
    },
    {
      "cell_type": "markdown",
      "source": [
        "Problem 2: Write a wild card character matcher. * matches 0 or more chars. ? matches only one character."
      ],
      "metadata": {
        "id": "BpxCg7Sfh4Ec"
      }
    },
    {
      "cell_type": "code",
      "source": [
        "def is_match(text, pattern):\n",
        "    # Base cases\n",
        "    if not pattern:\n",
        "        return not text\n",
        "\n",
        "    # Check if first characters match or '?' is used\n",
        "    first_match = bool(text) and (pattern[0] == text[0] or pattern[0] == '?')\n",
        "\n",
        "    # Handle '*' wildcard\n",
        "    if pattern[0] == '*':\n",
        "        # '*' matches 0 or more chars: Try skipping the '*' or consume one character\n",
        "        return is_match(text, pattern[1:]) or (bool(text) and is_match(text[1:], pattern))\n",
        "\n",
        "    # Move to the next character if first character matches\n",
        "    return first_match and is_match(text[1:], pattern[1:])\n",
        "\n",
        "# Function to test matching\n",
        "def test_pattern(pattern, test_cases):\n",
        "    for case in test_cases:\n",
        "        result = \"Match\" if is_match(case, pattern) else \"No Match\"\n",
        "        print(f\"{pattern} -> {case}: {result}\")\n",
        "\n",
        "# Test cases\n",
        "test_cases = [\n",
        "    \"abc\", \"ab\", \"ax\", \"a\", \"a1\", \"a2\", \"aa\", \"axyzb\", \"a123b\", \"ab\", \"a1b1c\", \"aa1b\", \"aaxby\", \"aa1bcdeffgshshshsh\", \"aab\", \"ab\"\n",
        "]\n",
        "\n",
        "# Test patterns\n",
        "patterns = [\"a*\", \"a?\", \"a*b\", \"a*b*c\", \"aa?b*\"]\n",
        "\n",
        "for pattern in patterns:\n",
        "    print(f\"\\nTesting pattern: {pattern}\")\n",
        "    test_pattern(pattern, test_cases)\n"
      ],
      "metadata": {
        "colab": {
          "base_uri": "https://localhost:8080/"
        },
        "id": "o3XWZnHwf18g",
        "outputId": "7f4e776c-91bd-4ba2-b4a6-25c8216ef676"
      },
      "execution_count": 2,
      "outputs": [
        {
          "output_type": "stream",
          "name": "stdout",
          "text": [
            "\n",
            "Testing pattern: a*\n",
            "a* -> abc: Match\n",
            "a* -> ab: Match\n",
            "a* -> ax: Match\n",
            "a* -> a: Match\n",
            "a* -> a1: Match\n",
            "a* -> a2: Match\n",
            "a* -> aa: Match\n",
            "a* -> axyzb: Match\n",
            "a* -> a123b: Match\n",
            "a* -> ab: Match\n",
            "a* -> a1b1c: Match\n",
            "a* -> aa1b: Match\n",
            "a* -> aaxby: Match\n",
            "a* -> aa1bcdeffgshshshsh: Match\n",
            "a* -> aab: Match\n",
            "a* -> ab: Match\n",
            "\n",
            "Testing pattern: a?\n",
            "a? -> abc: No Match\n",
            "a? -> ab: Match\n",
            "a? -> ax: Match\n",
            "a? -> a: No Match\n",
            "a? -> a1: Match\n",
            "a? -> a2: Match\n",
            "a? -> aa: Match\n",
            "a? -> axyzb: No Match\n",
            "a? -> a123b: No Match\n",
            "a? -> ab: Match\n",
            "a? -> a1b1c: No Match\n",
            "a? -> aa1b: No Match\n",
            "a? -> aaxby: No Match\n",
            "a? -> aa1bcdeffgshshshsh: No Match\n",
            "a? -> aab: No Match\n",
            "a? -> ab: Match\n",
            "\n",
            "Testing pattern: a*b\n",
            "a*b -> abc: No Match\n",
            "a*b -> ab: Match\n",
            "a*b -> ax: No Match\n",
            "a*b -> a: No Match\n",
            "a*b -> a1: No Match\n",
            "a*b -> a2: No Match\n",
            "a*b -> aa: No Match\n",
            "a*b -> axyzb: Match\n",
            "a*b -> a123b: Match\n",
            "a*b -> ab: Match\n",
            "a*b -> a1b1c: No Match\n",
            "a*b -> aa1b: Match\n",
            "a*b -> aaxby: No Match\n",
            "a*b -> aa1bcdeffgshshshsh: No Match\n",
            "a*b -> aab: Match\n",
            "a*b -> ab: Match\n",
            "\n",
            "Testing pattern: a*b*c\n",
            "a*b*c -> abc: Match\n",
            "a*b*c -> ab: No Match\n",
            "a*b*c -> ax: No Match\n",
            "a*b*c -> a: No Match\n",
            "a*b*c -> a1: No Match\n",
            "a*b*c -> a2: No Match\n",
            "a*b*c -> aa: No Match\n",
            "a*b*c -> axyzb: No Match\n",
            "a*b*c -> a123b: No Match\n",
            "a*b*c -> ab: No Match\n",
            "a*b*c -> a1b1c: Match\n",
            "a*b*c -> aa1b: No Match\n",
            "a*b*c -> aaxby: No Match\n",
            "a*b*c -> aa1bcdeffgshshshsh: No Match\n",
            "a*b*c -> aab: No Match\n",
            "a*b*c -> ab: No Match\n",
            "\n",
            "Testing pattern: aa?b*\n",
            "aa?b* -> abc: No Match\n",
            "aa?b* -> ab: No Match\n",
            "aa?b* -> ax: No Match\n",
            "aa?b* -> a: No Match\n",
            "aa?b* -> a1: No Match\n",
            "aa?b* -> a2: No Match\n",
            "aa?b* -> aa: No Match\n",
            "aa?b* -> axyzb: No Match\n",
            "aa?b* -> a123b: No Match\n",
            "aa?b* -> ab: No Match\n",
            "aa?b* -> a1b1c: No Match\n",
            "aa?b* -> aa1b: Match\n",
            "aa?b* -> aaxby: Match\n",
            "aa?b* -> aa1bcdeffgshshshsh: Match\n",
            "aa?b* -> aab: No Match\n",
            "aa?b* -> ab: No Match\n"
          ]
        }
      ]
    },
    {
      "cell_type": "markdown",
      "source": [
        "Problem 3:  Given two 3D vectors representing two points, find the distance between two points"
      ],
      "metadata": {
        "id": "4Uo4oMS0qdBn"
      }
    },
    {
      "cell_type": "code",
      "source": [
        "# Import math module for square root function\n",
        "import math\n",
        "\n",
        "# Function to calculate distance between two 3D points\n",
        "def distance_3d(point1, point2):\n",
        "    # Extract coordinates\n",
        "    x1, y1, z1 = point1\n",
        "    x2, y2, z2 = point2\n",
        "\n",
        "    # Calculate the Euclidean distance in 3D\n",
        "    distance = math.sqrt((x2 - x1)**2 + (y2 - y1)**2 + (z2 - z1)**2)\n",
        "    return distance\n",
        "\n",
        "# Example usage\n",
        "print(distance_3d([1, 2, 3], [4, 6, 8]))\n",
        "print(distance_3d([3, 5, 7], [3, 9, 11]))"
      ],
      "metadata": {
        "colab": {
          "base_uri": "https://localhost:8080/"
        },
        "id": "BD5ukXUNqZri",
        "outputId": "9f3c7530-0c55-4c28-ac24-63fe0fdcb137"
      },
      "execution_count": 16,
      "outputs": [
        {
          "output_type": "stream",
          "name": "stdout",
          "text": [
            "7.0710678118654755\n",
            "5.656854249492381\n"
          ]
        }
      ]
    },
    {
      "cell_type": "markdown",
      "source": [
        "Problem 4: Generalize problem Q4 for n dimensions."
      ],
      "metadata": {
        "id": "hv6QmRAmhJkw"
      }
    },
    {
      "cell_type": "code",
      "source": [
        "import math\n",
        "\n",
        "# Function to calculate distance in N-dimensional space\n",
        "def distance_nd(point1, point2):\n",
        "    # Check if both points have the same dimension\n",
        "    if len(point1) != len(point2):\n",
        "        raise ValueError(\"Both points must have the same number of dimensions.\")\n",
        "\n",
        "    # Calculate Euclidean distance for N dimensions\n",
        "    distance = math.sqrt(sum((p - q) ** 2 for p, q in zip(point1, point2)))\n",
        "\n",
        "    return distance\n",
        "\n",
        "# Example usage\n",
        "point1 = [1, 2, 3, 4, 5]\n",
        "point2 = [2, 3, 4, 5, 6]\n",
        "\n",
        "# Calculate distance\n",
        "result = distance_nd(point1, point2)\n",
        "\n",
        "# Display the result\n",
        "print(f\"The distance between {point1} and {point2} is: {result:.2f}\")\n"
      ],
      "metadata": {
        "colab": {
          "base_uri": "https://localhost:8080/"
        },
        "id": "nx8333mLqpZ9",
        "outputId": "366ef92e-7af9-4da2-9073-7a9271f4bd21"
      },
      "execution_count": 3,
      "outputs": [
        {
          "output_type": "stream",
          "name": "stdout",
          "text": [
            "The distance between [1, 2, 3, 4, 5] and [2, 3, 4, 5, 6] is: 2.24\n"
          ]
        }
      ]
    },
    {
      "cell_type": "markdown",
      "source": [
        "Problem 5: expression parsing and giving text"
      ],
      "metadata": {
        "id": "GfjqPy81jFc5"
      }
    },
    {
      "cell_type": "code",
      "source": [
        "# Basic expression parser\n",
        "def parse_expression(expression):\n",
        "    try:\n",
        "        # Use Python's eval() to evaluate the expression\n",
        "        result = eval(expression)\n",
        "        return result\n",
        "    except Exception as e:\n",
        "        return f\"Error: Invalid expression - {e}\"\n",
        "\n",
        "# Example usage\n",
        "expressions = [\n",
        "    \"2 + 3 * 4\",\n",
        "    \"(5 + 3) * 2\",\n",
        "    \"10 / 2 + 6\",\n",
        "    \"4 * (3 + 2) - 1\",\n",
        "    \"12 / (3 * (2 + 2))\"\n",
        "]\n",
        "\n",
        "# Parse and evaluate each expression\n",
        "for expr in expressions:\n",
        "    result = parse_expression(expr)\n",
        "    print(f\"{expr} = {result}\")\n"
      ],
      "metadata": {
        "colab": {
          "base_uri": "https://localhost:8080/"
        },
        "id": "71-OZqDYixzm",
        "outputId": "61f858ce-1696-4254-96dc-fe75e541a1cd"
      },
      "execution_count": 4,
      "outputs": [
        {
          "output_type": "stream",
          "name": "stdout",
          "text": [
            "2 + 3 * 4 = 14\n",
            "(5 + 3) * 2 = 16\n",
            "10 / 2 + 6 = 11.0\n",
            "4 * (3 + 2) - 1 = 19\n",
            "12 / (3 * (2 + 2)) = 1.0\n"
          ]
        }
      ]
    },
    {
      "cell_type": "code",
      "source": [],
      "metadata": {
        "id": "PdL2HBB0jT0d"
      },
      "execution_count": null,
      "outputs": []
    }
  ]
}