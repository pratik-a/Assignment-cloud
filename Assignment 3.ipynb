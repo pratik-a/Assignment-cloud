{
  "nbformat": 4,
  "nbformat_minor": 0,
  "metadata": {
    "colab": {
      "provenance": []
    },
    "kernelspec": {
      "name": "python3",
      "display_name": "Python 3"
    },
    "language_info": {
      "name": "python"
    }
  },
  "cells": [
    {
      "cell_type": "markdown",
      "source": [
        "Problem 1:Print all strings that can be generated from a list of letters.\n"
      ],
      "metadata": {
        "id": "vibb24IWhgMN"
      }
    },
    {
      "cell_type": "code",
      "execution_count": 6,
      "metadata": {
        "id": "1A7naAktH4XQ",
        "colab": {
          "base_uri": "https://localhost:8080/"
        },
        "outputId": "e29f7166-ed20-44b1-c229-873e07f69224"
      },
      "outputs": [
        {
          "output_type": "stream",
          "name": "stdout",
          "text": [
            "AAA\n",
            "AAB\n",
            "AAC\n",
            "ABA\n",
            "ABB\n",
            "ABC\n",
            "ACA\n",
            "ACB\n",
            "ACC\n",
            "BAA\n",
            "BAB\n",
            "BAC\n",
            "BBA\n",
            "BBB\n",
            "BBC\n",
            "BCA\n",
            "BCB\n",
            "BCC\n",
            "CAA\n",
            "CAB\n",
            "CAC\n",
            "CBA\n",
            "CBB\n",
            "CBC\n",
            "CCA\n",
            "CCB\n",
            "CCC\n"
          ]
        }
      ],
      "source": [
        "from itertools import product\n",
        "\n",
        "# Function to generate strings of length 3 from a string\n",
        "def generate_strings(s, length=3):\n",
        "    for combo in product(s, repeat=length):\n",
        "        # Join characters to form a string\n",
        "        print(''.join(combo))\n",
        "\n",
        "# Input string\n",
        "s = \"ABC\"\n",
        "\n",
        "# Call the function to generate strings of length 3\n",
        "generate_strings(s)\n"
      ]
    },
    {
      "cell_type": "markdown",
      "source": [
        "Problem 2: Code Huber Loss\n"
      ],
      "metadata": {
        "id": "BpxCg7Sfh4Ec"
      }
    },
    {
      "cell_type": "code",
      "source": [
        "import numpy as np\n",
        "\n",
        "# Function to calculate Huber Loss\n",
        "def huber_loss(y_true, y_pred, delta=1.0):\n",
        "    # Calculate the difference\n",
        "    error = y_true - y_pred\n",
        "\n",
        "    # Apply Huber loss formula\n",
        "    if np.abs(error) <= delta:\n",
        "        loss = 0.5 * (error ** 2)\n",
        "    else:\n",
        "        loss = delta * (np.abs(error) - 0.5 * delta)\n",
        "\n",
        "    return loss\n",
        "\n",
        "# Example usage\n",
        "y_true = 5.0\n",
        "y_pred = 4.5\n",
        "\n",
        "# Calculate Huber loss\n",
        "loss = huber_loss(y_true, y_pred)\n",
        "print(f\"Huber Loss: {loss:.4f}\")\n"
      ],
      "metadata": {
        "colab": {
          "base_uri": "https://localhost:8080/"
        },
        "id": "o3XWZnHwf18g",
        "outputId": "5d28f7c5-11ba-4882-8201-2864dc94186e"
      },
      "execution_count": 7,
      "outputs": [
        {
          "output_type": "stream",
          "name": "stdout",
          "text": [
            "Huber Loss: 0.1250\n"
          ]
        }
      ]
    },
    {
      "cell_type": "markdown",
      "source": [
        "Problem 3:Code for BLEU Score"
      ],
      "metadata": {
        "id": "wK1NiO1NjWbf"
      }
    },
    {
      "cell_type": "code",
      "source": [
        "import nltk\n",
        "from nltk.translate.bleu_score import sentence_bleu, SmoothingFunction\n",
        "\n",
        "# Function to calculate BLEU score\n",
        "def calculate_bleu(reference, candidate):\n",
        "    # Tokenize the reference and candidate sentences\n",
        "    reference_tokens = [ref.split() for ref in reference]\n",
        "    candidate_tokens = candidate.split()\n",
        "\n",
        "    # Use smoothing to avoid zero scores in case of missing n-grams\n",
        "    smoothie = SmoothingFunction().method1\n",
        "\n",
        "    # Calculate BLEU score\n",
        "    bleu_score = sentence_bleu(reference_tokens, candidate_tokens, smoothing_function=smoothie)\n",
        "    return bleu_score\n",
        "\n",
        "# Example usage\n",
        "reference_sentences = [\n",
        "    \"the cat is on the mat\",\n",
        "    \"there is a cat on the mat\"\n",
        "]\n",
        "candidate_sentence = \"the cat is on mat\"\n",
        "\n",
        "# Calculate BLEU score\n",
        "bleu = calculate_bleu(reference_sentences, candidate_sentence)\n",
        "print(f\"BLEU Score: {bleu:.4f}\")\n"
      ],
      "metadata": {
        "colab": {
          "base_uri": "https://localhost:8080/"
        },
        "id": "5fI-ZInHjbS6",
        "outputId": "5338d482-7572-4c37-e2ce-968b9c9e6ed5"
      },
      "execution_count": 8,
      "outputs": [
        {
          "output_type": "stream",
          "name": "stdout",
          "text": [
            "BLEU Score: 0.5789\n"
          ]
        }
      ]
    },
    {
      "cell_type": "markdown",
      "source": [
        "Problem 4:Design for implementing multiplication without using the multiplication operator"
      ],
      "metadata": {
        "id": "-zIMDrsTkaTV"
      }
    },
    {
      "cell_type": "code",
      "source": [
        "# Function to multiply using divide and conquer\n",
        "def multiply_divide_conquer(a, b):\n",
        "    # Handle negative numbers\n",
        "    negative = False\n",
        "    if a < 0 and b < 0:\n",
        "        a, b = -a, -b\n",
        "    elif a < 0 or b < 0:\n",
        "        negative = True\n",
        "        a, b = abs(a), abs(b)\n",
        "\n",
        "    # Base case\n",
        "    if b == 0:\n",
        "        return 0\n",
        "    elif b == 1:\n",
        "        return a\n",
        "\n",
        "    # Recursive call to halve the problem\n",
        "    half = multiply_divide_conquer(a, b // 2)\n",
        "\n",
        "    # Double the result and handle odd cases\n",
        "    result = half + half\n",
        "    if b % 2 == 1:\n",
        "        result += a\n",
        "\n",
        "    return -result if negative else result\n",
        "\n",
        "print(multiply_divide_conquer(5, 3))\n",
        "print(multiply_divide_conquer(-4, 3))\n",
        "print(multiply_divide_conquer(-5, -3))\n"
      ],
      "metadata": {
        "colab": {
          "base_uri": "https://localhost:8080/"
        },
        "id": "uOJGdP0lkenO",
        "outputId": "96e43a5e-8ed2-4d34-a578-9d9eb629fdb9"
      },
      "execution_count": 9,
      "outputs": [
        {
          "output_type": "stream",
          "name": "stdout",
          "text": [
            "15\n",
            "-12\n",
            "15\n"
          ]
        }
      ]
    },
    {
      "cell_type": "code",
      "source": [],
      "metadata": {
        "id": "WfYqsJACkyXT"
      },
      "execution_count": null,
      "outputs": []
    }
  ]
}