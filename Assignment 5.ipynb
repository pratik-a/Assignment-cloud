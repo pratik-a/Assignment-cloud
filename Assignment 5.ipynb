{
  "nbformat": 4,
  "nbformat_minor": 0,
  "metadata": {
    "colab": {
      "provenance": []
    },
    "kernelspec": {
      "name": "python3",
      "display_name": "Python 3"
    },
    "language_info": {
      "name": "python"
    }
  },
  "cells": [
    {
      "cell_type": "markdown",
      "source": [
        "Problem 1:Given two vectors (arrays or list of numbers) return the difference of the two vectors\n",
        "\n"
      ],
      "metadata": {
        "id": "vibb24IWhgMN"
      }
    },
    {
      "cell_type": "code",
      "execution_count": 13,
      "metadata": {
        "id": "1A7naAktH4XQ",
        "colab": {
          "base_uri": "https://localhost:8080/"
        },
        "outputId": "3c7988c8-2843-4437-866b-fd184eff67c6"
      },
      "outputs": [
        {
          "output_type": "stream",
          "name": "stdout",
          "text": [
            "[-1, -1, -1]\n",
            "[2, 4, 2]\n"
          ]
        }
      ],
      "source": [
        "# Function to calculate the difference between two vectors\n",
        "def vector_difference(vec1, vec2):\n",
        "    # Check if vectors have the same length\n",
        "    if len(vec1) != len(vec2):\n",
        "        raise ValueError(\"Vectors must be of the same length.\")\n",
        "\n",
        "    # Subtract corresponding elements\n",
        "    diff = [vec1[i] - vec2[i] for i in range(len(vec1))]\n",
        "    return diff\n",
        "\n",
        "# Example usage\n",
        "print(vector_difference([1, 2, 3], [2, 3, 4]))\n",
        "print(vector_difference([5, 8, 12], [3, 4, 10]))"
      ]
    },
    {
      "cell_type": "markdown",
      "source": [
        "Problem 2: Given two vectors (arrays or list of numbers), Find absolute distance between them, L1 Distance"
      ],
      "metadata": {
        "id": "BpxCg7Sfh4Ec"
      }
    },
    {
      "cell_type": "code",
      "source": [
        "# Function to calculate L1 (Manhattan) distance\n",
        "def l1_distance(vec1, vec2):\n",
        "    # Check if vectors have the same length\n",
        "    if len(vec1) != len(vec2):\n",
        "        raise ValueError(\"Vectors must be of the same length.\")\n",
        "\n",
        "    # Calculate the sum of absolute differences\n",
        "    distance = sum(abs(vec1[i] - vec2[i]) for i in range(len(vec1)))\n",
        "    return distance\n",
        "\n",
        "# Example usage\n",
        "print(l1_distance([1, 2, 3], [2, 3, 4]))\n",
        "print(l1_distance([5, 8, 12], [3, 4, 10]))\n"
      ],
      "metadata": {
        "colab": {
          "base_uri": "https://localhost:8080/"
        },
        "id": "o3XWZnHwf18g",
        "outputId": "3259016d-01af-4e5c-b3d9-f42f99c7c3e0"
      },
      "execution_count": 14,
      "outputs": [
        {
          "output_type": "stream",
          "name": "stdout",
          "text": [
            "3\n",
            "8\n"
          ]
        }
      ]
    },
    {
      "cell_type": "markdown",
      "source": [
        "Problem 3:Given two 2D vectors representing two points, find the distance between two points"
      ],
      "metadata": {
        "id": "Il4omm_mqHvR"
      }
    },
    {
      "cell_type": "code",
      "source": [
        "# Import math module for square root function\n",
        "import math\n",
        "\n",
        "# Function to calculate distance between two 2D points\n",
        "def distance_2d(point1, point2):\n",
        "    # Extract coordinates\n",
        "    x1, y1 = point1\n",
        "    x2, y2 = point2\n",
        "\n",
        "    # Calculate the Euclidean distance\n",
        "    distance = math.sqrt((x2 - x1)**2 + (y2 - y1)**2)\n",
        "    return distance\n",
        "\n",
        "# Example usage\n",
        "print(distance_2d([1, 2], [4, 6]))\n",
        "print(distance_2d([3, 5], [3, 9]))"
      ],
      "metadata": {
        "colab": {
          "base_uri": "https://localhost:8080/"
        },
        "id": "eAUp9fQNqRKo",
        "outputId": "7181cd6e-696a-4ea9-b3d6-549b27826ccb"
      },
      "execution_count": 15,
      "outputs": [
        {
          "output_type": "stream",
          "name": "stdout",
          "text": [
            "5.0\n",
            "4.0\n"
          ]
        }
      ]
    },
    {
      "cell_type": "markdown",
      "source": [
        "Problem 4:  Given two 3D vectors representing two points, find the distance between two points"
      ],
      "metadata": {
        "id": "4Uo4oMS0qdBn"
      }
    },
    {
      "cell_type": "code",
      "source": [
        "# Import math module for square root function\n",
        "import math\n",
        "\n",
        "# Function to calculate distance between two 3D points\n",
        "def distance_3d(point1, point2):\n",
        "    # Extract coordinates\n",
        "    x1, y1, z1 = point1\n",
        "    x2, y2, z2 = point2\n",
        "\n",
        "    # Calculate the Euclidean distance in 3D\n",
        "    distance = math.sqrt((x2 - x1)**2 + (y2 - y1)**2 + (z2 - z1)**2)\n",
        "    return distance\n",
        "\n",
        "# Example usage\n",
        "print(distance_3d([1, 2, 3], [4, 6, 8]))\n",
        "print(distance_3d([3, 5, 7], [3, 9, 11]))"
      ],
      "metadata": {
        "colab": {
          "base_uri": "https://localhost:8080/"
        },
        "id": "BD5ukXUNqZri",
        "outputId": "9f3c7530-0c55-4c28-ac24-63fe0fdcb137"
      },
      "execution_count": 16,
      "outputs": [
        {
          "output_type": "stream",
          "name": "stdout",
          "text": [
            "7.0710678118654755\n",
            "5.656854249492381\n"
          ]
        }
      ]
    },
    {
      "cell_type": "code",
      "source": [],
      "metadata": {
        "id": "nx8333mLqpZ9"
      },
      "execution_count": null,
      "outputs": []
    }
  ]
}