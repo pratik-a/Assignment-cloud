{
  "nbformat": 4,
  "nbformat_minor": 0,
  "metadata": {
    "colab": {
      "provenance": []
    },
    "kernelspec": {
      "name": "python3",
      "display_name": "Python 3"
    },
    "language_info": {
      "name": "python"
    }
  },
  "cells": [
    {
      "cell_type": "markdown",
      "source": [
        "Problem 1:Check if a number is Palindrome using Recursion"
      ],
      "metadata": {
        "id": "vibb24IWhgMN"
      }
    },
    {
      "cell_type": "code",
      "execution_count": 10,
      "metadata": {
        "id": "1A7naAktH4XQ",
        "colab": {
          "base_uri": "https://localhost:8080/"
        },
        "outputId": "f99608f4-9ddd-415d-8436-d2558855fab4"
      },
      "outputs": [
        {
          "output_type": "stream",
          "name": "stdout",
          "text": [
            "Yes\n"
          ]
        }
      ],
      "source": [
        "# Function to check if the number is palindrome\n",
        "def isPalindrome(n):\n",
        "    reverse = 0\n",
        "    temp = abs(n)\n",
        "    while temp != 0:\n",
        "        reverse = (reverse * 10) + (temp % 10)\n",
        "        temp = temp // 10\n",
        "    return (reverse == abs(n))\n",
        "\n",
        "n = 12321\n",
        "if isPalindrome(n) == True:\n",
        "    print(\"Yes\")\n",
        "else:\n",
        "    print(\"No\")"
      ]
    },
    {
      "cell_type": "markdown",
      "source": [
        "Problem 2: Program for length of a string using recursion"
      ],
      "metadata": {
        "id": "BpxCg7Sfh4Ec"
      }
    },
    {
      "cell_type": "code",
      "source": [
        "def recLen(str):\n",
        "    # Base case: If the string is empty\n",
        "    if str == \"\":\n",
        "        return 0\n",
        "    return 1 + recLen(str[1:])\n",
        "\n",
        "# Driver code\n",
        "str = \"Hello\"\n",
        "print(recLen(str))"
      ],
      "metadata": {
        "colab": {
          "base_uri": "https://localhost:8080/"
        },
        "id": "o3XWZnHwf18g",
        "outputId": "9ca4e31b-2fc8-4137-b392-028df003b243"
      },
      "execution_count": 12,
      "outputs": [
        {
          "output_type": "stream",
          "name": "stdout",
          "text": [
            "5\n"
          ]
        }
      ]
    },
    {
      "cell_type": "code",
      "source": [],
      "metadata": {
        "id": "WfYqsJACkyXT"
      },
      "execution_count": null,
      "outputs": []
    }
  ]
}