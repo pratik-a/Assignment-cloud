{
  "nbformat": 4,
  "nbformat_minor": 0,
  "metadata": {
    "colab": {
      "provenance": []
    },
    "kernelspec": {
      "name": "python3",
      "display_name": "Python 3"
    },
    "language_info": {
      "name": "python"
    }
  },
  "cells": [
    {
      "cell_type": "markdown",
      "source": [
        "Problem 1:Write a code for Merge Sort\n",
        "\n"
      ],
      "metadata": {
        "id": "vibb24IWhgMN"
      }
    },
    {
      "cell_type": "code",
      "source": [
        "def merge_sort(arr):\n",
        "    \"\"\"Perform merge sort on an array.\"\"\"\n",
        "    if len(arr) > 1:\n",
        "        # Find the middle of the array\n",
        "        mid = len(arr) // 2\n",
        "\n",
        "        # Split the array into two halves\n",
        "        left_half = arr[:mid]\n",
        "        right_half = arr[mid:]\n",
        "\n",
        "        # Recursively sort both halves\n",
        "        merge_sort(left_half)\n",
        "        merge_sort(right_half)\n",
        "\n",
        "        # Merge the sorted halves\n",
        "        merge(arr, left_half, right_half)\n",
        "\n",
        "\n",
        "def merge(arr, left_half, right_half):\n",
        "    \"\"\"Merge two sorted halves into a single sorted array.\"\"\"\n",
        "    i = j = k = 0\n",
        "\n",
        "    # Compare elements and merge\n",
        "    while i < len(left_half) and j < len(right_half):\n",
        "        if left_half[i] <= right_half[j]:\n",
        "            arr[k] = left_half[i]\n",
        "            i += 1\n",
        "        else:\n",
        "            arr[k] = right_half[j]\n",
        "            j += 1\n",
        "        k += 1\n",
        "\n",
        "    # Copy remaining elements of left_half if any\n",
        "    while i < len(left_half):\n",
        "        arr[k] = left_half[i]\n",
        "        i += 1\n",
        "        k += 1\n",
        "\n",
        "    # Copy remaining elements of right_half if any\n",
        "    while j < len(right_half):\n",
        "        arr[k] = right_half[j]\n",
        "        j += 1\n",
        "        k += 1\n",
        "\n",
        "\n",
        "# Example usage\n",
        "arr = [38, 27, 43, 3, 9, 82, 10]\n",
        "print(\"Original array:\", arr)\n",
        "merge_sort(arr)\n",
        "print(\"Sorted array:\", arr)\n"
      ],
      "metadata": {
        "colab": {
          "base_uri": "https://localhost:8080/"
        },
        "id": "HegckjIem1k_",
        "outputId": "97240c2e-3231-4d01-a848-497aef17a1c1"
      },
      "execution_count": 24,
      "outputs": [
        {
          "output_type": "stream",
          "name": "stdout",
          "text": [
            "Original array: [38, 27, 43, 3, 9, 82, 10]\n",
            "Sorted array: [3, 9, 10, 27, 38, 43, 82]\n"
          ]
        }
      ]
    },
    {
      "cell_type": "markdown",
      "source": [
        "**Decoder**"
      ],
      "metadata": {
        "id": "Ue-ebBFYkU0p"
      }
    }
  ]
}