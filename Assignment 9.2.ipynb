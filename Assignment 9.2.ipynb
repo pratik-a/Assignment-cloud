{
  "nbformat": 4,
  "nbformat_minor": 0,
  "metadata": {
    "colab": {
      "provenance": []
    },
    "kernelspec": {
      "name": "python3",
      "display_name": "Python 3"
    },
    "language_info": {
      "name": "python"
    }
  },
  "cells": [
    {
      "cell_type": "markdown",
      "source": [
        "Problem 1:\n",
        "\n",
        "```\n",
        "# Move all zeros to the beginning and all 1s to the end without using another list in\n",
        "# order of n\n",
        "# Input: [(0,\"x\"), (1, 12), (0, 34), (1,90), (1,89), (0,\"s\"),  (1, \"7\")]\n",
        "# Expected Output: [(0,\"x\"), (0, 34), (0,\"s\"), (1,89), (1,90), (1, 12),  (1, \"7\")]```\n",
        "\n"
      ],
      "metadata": {
        "id": "vibb24IWhgMN"
      }
    },
    {
      "cell_type": "code",
      "source": [
        "def rearrange_zeros_and_ones(arr):\n",
        "    \"\"\"Move all zeros to the beginning and all ones to the end in-place.\"\"\"\n",
        "    n = len(arr)\n",
        "    left, right = 0, n - 1\n",
        "    i = 0\n",
        "\n",
        "    # Iterate while i is less than or equal to right\n",
        "    while i <= right:\n",
        "        if arr[i][0] == 0:\n",
        "            # Swap to move 0s to the left\n",
        "            arr[left], arr[i] = arr[i], arr[left]\n",
        "            left += 1\n",
        "            i += 1\n",
        "        elif arr[i][0] == 1:\n",
        "            # Swap to move 1s to the right\n",
        "            arr[right], arr[i] = arr[i], arr[right]\n",
        "            right -= 1\n",
        "        else:\n",
        "            # Skip if it's not 0 or 1\n",
        "            i += 1\n",
        "\n",
        "    # Sort 1s in their original order (stable sort for 1s)\n",
        "    arr[left:] = sorted(arr[left:], key=lambda x: arr.index(x))\n",
        "\n",
        "# Input list\n",
        "arr = [(0, \"x\"), (1, 12), (0, 34), (1, 90), (1, 89), (0, \"s\"), (1, \"7\")]\n",
        "\n",
        "# Call the function\n",
        "rearrange_zeros_and_ones(arr)\n",
        "\n",
        "# Print result\n",
        "print(arr)\n"
      ],
      "metadata": {
        "colab": {
          "base_uri": "https://localhost:8080/"
        },
        "id": "HegckjIem1k_",
        "outputId": "5553f2d8-8384-4d84-a7b0-e291ce02e2f8"
      },
      "execution_count": 23,
      "outputs": [
        {
          "output_type": "stream",
          "name": "stdout",
          "text": [
            "[(0, 'x'), (0, 's'), (0, 34), (1, 89), (1, 90), (1, '7'), (1, 12)]\n"
          ]
        }
      ]
    },
    {
      "cell_type": "markdown",
      "source": [
        "**Decoder**"
      ],
      "metadata": {
        "id": "Ue-ebBFYkU0p"
      }
    }
  ]
}