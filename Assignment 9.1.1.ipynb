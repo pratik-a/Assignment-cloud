{
  "nbformat": 4,
  "nbformat_minor": 0,
  "metadata": {
    "colab": {
      "provenance": []
    },
    "kernelspec": {
      "name": "python3",
      "display_name": "Python 3"
    },
    "language_info": {
      "name": "python"
    }
  },
  "cells": [
    {
      "cell_type": "markdown",
      "source": [
        "Problem 1:CSV File encoding"
      ],
      "metadata": {
        "id": "vibb24IWhgMN"
      }
    },
    {
      "cell_type": "code",
      "source": [
        "class NumericEmailEncrypter:\n",
        "    def __init__(self):\n",
        "        self.encryption_offset = 42\n",
        "        # Valid ASCII range for email characters (43 to 122)\n",
        "        self.valid_char_range = range(43, 123)\n",
        "\n",
        "    def encrypt_email_id(self, email_id):\n",
        "        \"\"\"Encrypt the given email ID into a numeric string.\"\"\"\n",
        "        if not email_id or any(ord(char) not in self.valid_char_range for char in email_id):\n",
        "            return \"Invalid characters in email ID. Cannot encrypt.\"\n",
        "\n",
        "        # Use list comprehension for faster encryption\n",
        "        encrypted_email_id = \"1\" + \"\".join(\n",
        "            f\"{ord(char) - self.encryption_offset:02d}\" for char in email_id\n",
        "        )\n",
        "        return encrypted_email_id\n",
        "\n",
        "    def decrypt_email_id(self, encrypted_email_id):\n",
        "        \"\"\"Decrypt the numeric string back to the original email ID.\"\"\"\n",
        "        # Check if string starts with '1' and has valid length (even digits after '1')\n",
        "        if not encrypted_email_id or encrypted_email_id[0] != '1' or len(encrypted_email_id) % 2 == 0:\n",
        "            return \"Invalid encrypted string. Cannot decrypt.\"\n",
        "\n",
        "        # Remove the leading '1' and process in chunks of 2\n",
        "        encrypted_email_id = encrypted_email_id[1:]\n",
        "        try:\n",
        "            # Faster decryption with list comprehension\n",
        "            decrypted_email_id = \"\".join(\n",
        "                chr(int(encrypted_email_id[i:i+2]) + self.encryption_offset)\n",
        "                for i in range(0, len(encrypted_email_id), 2)\n",
        "            )\n",
        "            return decrypted_email_id\n",
        "        except (ValueError, TypeError):\n",
        "            return \"Decryption failed. Invalid data format.\"\n",
        "\n",
        "\n",
        "#  Example Usage\n",
        "encrypter = NumericEmailEncrypter()\n",
        "\n",
        "# Encrypt an email ID\n",
        "email_id = \"test.email@example.com\"\n",
        "encrypted_email = encrypter.encrypt_email_id(email_id)\n",
        "print(f\"Encrypted Email ID: {encrypted_email}\")\n",
        "\n",
        "# Decrypt the encrypted email ID\n",
        "decrypted_email = encrypter.decrypt_email_id(encrypted_email)\n",
        "print(f\"Decrypted Email ID: {decrypted_email}\")\n"
      ],
      "metadata": {
        "id": "So5YJ6QvZMAr"
      },
      "execution_count": null,
      "outputs": []
    },
    {
      "cell_type": "markdown",
      "source": [
        "**Encoder**"
      ],
      "metadata": {
        "id": "Z1AV6e3LkKhq"
      }
    },
    {
      "cell_type": "code",
      "source": [
        "from numeric_encrypter import NumericEmailEncrypter\n",
        "\n",
        "\n",
        "def encode_file(input_file_name, output_file_name):\n",
        "    \"\"\"Encrypt email IDs in a CSV file and save the result.\"\"\"\n",
        "    try:\n",
        "        # Initialize the encrypter\n",
        "        encrypter = NumericEmailEncrypter()\n",
        "\n",
        "        # Open input and output files using 'with' for automatic closure\n",
        "        with open(input_file_name, 'r') as in_file, open(output_file_name, 'w') as out_file:\n",
        "            # Write the header to the output file\n",
        "            out_file.write(\"user_id,product_id,score\\n\")\n",
        "\n",
        "            # Process each line after the header\n",
        "            for line in in_file:\n",
        "                values = line.strip().split(',')\n",
        "\n",
        "                # Skip header row\n",
        "                if values[0] == \"user_email_id\":\n",
        "                    continue\n",
        "\n",
        "                # Encrypt email and update the line\n",
        "                encrypted_email = encrypter.encrypt_email_id(values[0])\n",
        "                if encrypted_email is not None:\n",
        "                    values[0] = encrypted_email\n",
        "                    out_file.write(','.join(values) + \"\\n\")\n",
        "                else:\n",
        "                    print(f\"Skipping invalid email: {values[0]}\")\n",
        "\n",
        "        print(f\"Encoding complete. Encrypted data saved to '{output_file_name}'.\")\n",
        "\n",
        "    except FileNotFoundError:\n",
        "        print(f\"❌ Error: File '{input_file_name}' not found.\")\n",
        "    except Exception as e:\n",
        "        print(f\"An error occurred: {e}\")\n",
        "\n",
        "\n",
        "# Run the encoding function\n",
        "encode_file(\"our_data.csv\", \"encoded_data.csv\")\n"
      ],
      "metadata": {
        "id": "tZdGPgJwkI1h"
      },
      "execution_count": null,
      "outputs": []
    },
    {
      "cell_type": "markdown",
      "source": [
        "**Decoder**"
      ],
      "metadata": {
        "id": "Ue-ebBFYkU0p"
      }
    },
    {
      "cell_type": "code",
      "source": [
        "from numeric_encrypter import NumericEmailEncrypter\n",
        "\n",
        "\n",
        "def decode_file(input_file_name, output_file_name):\n",
        "    \"\"\"Decrypt email IDs in a CSV file and save the result.\"\"\"\n",
        "    encrypter = NumericEmailEncrypter()\n",
        "\n",
        "    try:\n",
        "        # Open input and output files using 'with' for automatic closure\n",
        "        with open(input_file_name, 'r') as in_file, open(output_file_name, 'w') as out_file:\n",
        "            # Read and validate the header\n",
        "            header = in_file.readline().strip()\n",
        "            if header != \"user_id,product_id,score\":\n",
        "                print(\"Invalid file format. Skipping decoding.\")\n",
        "                return\n",
        "\n",
        "            # Write the correct header for the decoded file\n",
        "            out_file.write(\"user_email_id,product_id,score\\n\")\n",
        "\n",
        "            # Process each line after the header\n",
        "            for line in in_file:\n",
        "                values = line.strip().split(',')\n",
        "\n",
        "                # Validate row format (3 columns expected)\n",
        "                if len(values) != 3:\n",
        "                    print(f\"Skipping invalid row: {line.strip()}\")\n",
        "                    continue\n",
        "\n",
        "                # Decrypt the email ID and check for validity\n",
        "                decrypted_email = encrypter.decrypt_email_id(values[0])\n",
        "                if decrypted_email:\n",
        "                    values[0] = decrypted_email\n",
        "                    out_file.write(','.join(values) + \"\\n\")\n",
        "                else:\n",
        "                    print(f\"Skipping invalid encrypted ID: {values[0]}\")\n",
        "\n",
        "        print(f\"Decoding complete. Decrypted data saved to '{output_file_name}'.\")\n",
        "\n",
        "    except FileNotFoundError:\n",
        "        print(f\"❌ Error: File '{input_file_name}' not found.\")\n",
        "    except Exception as e:\n",
        "        print(f\"An error occurred: {e}\")\n",
        "\n",
        "\n",
        "# Run the decoding function\n",
        "decode_file(\"encoded_data.csv\", \"decoded_data.csv\")\n"
      ],
      "metadata": {
        "id": "IkmudpPWkXov"
      },
      "execution_count": null,
      "outputs": []
    },
    {
      "cell_type": "markdown",
      "source": [
        "Sample input data csv file"
      ],
      "metadata": {
        "id": "gDdXMC6glYT2"
      }
    },
    {
      "cell_type": "markdown",
      "source": [
        "\n",
        "\n",
        "```\n",
        "user_email_id,product_id,score\n",
        "a@gmail.com,1,4\n",
        "b@gmail.com,2,3.5\n",
        "c@gmail.com,3,2.0\n",
        "```\n",
        "\n"
      ],
      "metadata": {
        "id": "bVwfyGwEkqp7"
      }
    },
    {
      "cell_type": "markdown",
      "source": [
        "Encoder file output"
      ],
      "metadata": {
        "id": "g5Pl_igileIF"
      }
    },
    {
      "cell_type": "markdown",
      "source": [
        "```\n",
        "user_id,product_id,score\n",
        "17375566958622273556770665904576967,1,4\n",
        "1735568585959702257666975587866555604576967,2,3.5\n",
        "17369675969685922616755636604576967,2,2.0\n",
        "```\n",
        "\n"
      ],
      "metadata": {
        "id": "GVGFMpxak9Ls"
      }
    },
    {
      "cell_type": "markdown",
      "source": [
        "Decoder file output"
      ],
      "metadata": {
        "id": "VybukHnhlhOR"
      }
    },
    {
      "cell_type": "markdown",
      "source": [
        "\n",
        "\n",
        "```\n",
        "user_email_id,product_id,score\n",
        "a@gmail.com,1,4\n",
        "b@gmail.com,2,3.5\n",
        "c@gmail.com,3,2.0\n",
        "```\n",
        "\n"
      ],
      "metadata": {
        "id": "13iN5uQQlSX2"
      }
    },
    {
      "cell_type": "code",
      "source": [],
      "metadata": {
        "id": "TEXHb225k8HR"
      },
      "execution_count": null,
      "outputs": []
    }
  ]
}