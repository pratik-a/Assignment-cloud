{
  "nbformat": 4,
  "nbformat_minor": 0,
  "metadata": {
    "colab": {
      "provenance": []
    },
    "kernelspec": {
      "name": "python3",
      "display_name": "Python 3"
    },
    "language_info": {
      "name": "python"
    }
  },
  "cells": [
    {
      "cell_type": "markdown",
      "source": [
        "Problem 1: Write a program to calculate payments based on hr rate"
      ],
      "metadata": {
        "id": "vibb24IWhgMN"
      }
    },
    {
      "cell_type": "code",
      "execution_count": 3,
      "metadata": {
        "id": "1A7naAktH4XQ",
        "colab": {
          "base_uri": "https://localhost:8080/"
        },
        "outputId": "5aeb49cd-765b-44ad-a37d-02f235d5ea3c"
      },
      "outputs": [
        {
          "output_type": "stream",
          "name": "stdout",
          "text": [
            "Enter the number of hours worked: 45\n",
            "Enter the hourly rate: $9\n",
            "\n",
            "Total payment for 45.0 hours at $9.0/hour: $405.00\n"
          ]
        }
      ],
      "source": [
        "# Function to calculate payment based on hourly rate\n",
        "def calculate_payment(hours, rate):\n",
        "    # Simple calculation without overtime\n",
        "    total_payment = hours * rate\n",
        "    return total_payment\n",
        "\n",
        "# Get user input for hours worked and hourly rate\n",
        "print(\"Enter the number of hours worked: \", end=\"\")\n",
        "hours_input = input()\n",
        "\n",
        "print(\"Enter the hourly rate: $\", end=\"\")\n",
        "rate_input = input()\n",
        "\n",
        "# Check if inputs are valid numbers\n",
        "if hours_input.replace(\".\", \"\", 1).isdigit() and rate_input.replace(\".\", \"\", 1).isdigit():\n",
        "    # Convert inputs to appropriate types\n",
        "    hours_worked = float(hours_input)\n",
        "    hourly_rate = float(rate_input)\n",
        "\n",
        "    # Check for positive values\n",
        "    if hours_worked >= 0 and hourly_rate > 0:\n",
        "        # Calculate payment\n",
        "        payment = calculate_payment(hours_worked, hourly_rate)\n",
        "\n",
        "        # Display the result\n",
        "        print(f\"\\nTotal payment for {hours_worked} hours at ${hourly_rate}/hour: ${payment:.2f}\")\n",
        "    else:\n",
        "        print(\"Please enter positive values for hours and rate.\")\n",
        "else:\n",
        "    print(\"Invalid input. Please enter valid numeric values.\")\n"
      ]
    },
    {
      "cell_type": "markdown",
      "source": [
        "Problem 2: Write a program to calculate compound interest based on user input on principle, years (duration) and interest rate."
      ],
      "metadata": {
        "id": "BpxCg7Sfh4Ec"
      }
    },
    {
      "cell_type": "code",
      "source": [
        "# Function to calculate compound interest\n",
        "def calculate_compound_interest(principal, rate, time, n):\n",
        "    # Convert rate to decimal\n",
        "    rate_decimal = rate / 100\n",
        "    # Compound interest formula: A = P(1 + r/n)^(nt)\n",
        "    amount = principal * (1 + rate_decimal / n) ** (n * time)\n",
        "    compound_interest = amount - principal\n",
        "    return amount, compound_interest\n",
        "\n",
        "# Get user input for principal, rate, time, and compounding frequency\n",
        "principal = float(input(\"Enter the principal amount: $\"))\n",
        "rate = float(input(\"Enter the annual interest rate (in %): \"))\n",
        "time = int(input(\"Enter the duration (years): \"))\n",
        "n = int(input(\"Enter the number of times interest is compounded per year: \"))\n",
        "\n",
        "# Check for valid inputs\n",
        "if principal > 0 and rate > 0 and time > 0 and n > 0:\n",
        "    # Calculate compound interest\n",
        "    amount, compound_interest = calculate_compound_interest(principal, rate, time, n)\n",
        "\n",
        "    # Display results\n",
        "    print(f\"\\nAfter {time} years, the total amount will be: ${amount:.2f}\")\n",
        "    print(f\"The compound interest earned will be: ${compound_interest:.2f}\")\n",
        "else:\n",
        "    print(\"Invalid input. Please enter positive values for all inputs.\")\n"
      ],
      "metadata": {
        "colab": {
          "base_uri": "https://localhost:8080/"
        },
        "id": "o3XWZnHwf18g",
        "outputId": "16837261-3b9b-4ed7-ba60-15df1a5862d9"
      },
      "execution_count": 2,
      "outputs": [
        {
          "output_type": "stream",
          "name": "stdout",
          "text": [
            "Enter the principal amount: $45000\n",
            "Enter the annual interest rate (in %): 9\n",
            "Enter the duration (years): 5\n",
            "Enter the number of times interest is compounded per year: 12\n",
            "\n",
            "After 5 years, the total amount will be: $70455.65\n",
            "The compound interest earned will be: $25455.65\n"
          ]
        }
      ]
    },
    {
      "cell_type": "code",
      "source": [],
      "metadata": {
        "id": "L1TXru_0gbDs"
      },
      "execution_count": null,
      "outputs": []
    }
  ]
}